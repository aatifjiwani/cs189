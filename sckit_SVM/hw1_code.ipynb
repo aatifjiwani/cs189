{
 "cells": [
  {
   "cell_type": "code",
   "execution_count": 1,
   "metadata": {},
   "outputs": [],
   "source": [
    "import sys\n",
    "if sys.version_info[0] < 3:\n",
    "    raise Exception(\"Python 3 not detected.\")\n",
    "import numpy as np\n",
    "import matplotlib.pyplot as plt\n",
    "from sklearn import svm\n",
    "from sklearn import metrics\n",
    "from scipy import io\n",
    "import math"
   ]
  },
  {
   "cell_type": "markdown",
   "metadata": {},
   "source": [
    "## Question 2: Partioning"
   ]
  },
  {
   "cell_type": "code",
   "execution_count": 2,
   "metadata": {},
   "outputs": [
    {
     "name": "stdout",
     "output_type": "stream",
     "text": [
      "\n",
      "loaded mnist data!\n",
      "test_data (10000, 784)\n",
      "training_data (60000, 784)\n",
      "training_labels (60000, 1)\n",
      "\n",
      "loaded spam data!\n",
      "test_data (5857, 32)\n",
      "training_data (5172, 32)\n",
      "training_labels (5172, 1)\n",
      "\n",
      "loaded cifar10 data!\n",
      "test_data (10000, 3072)\n",
      "training_data (50000, 3072)\n",
      "training_labels (50000, 1)\n"
     ]
    }
   ],
   "source": [
    "complete_dataset = {}\n",
    "\n",
    "for data_name in [\"mnist\", \"spam\", \"cifar10\"]:\n",
    "    data = io.loadmat(\"data/%s_data.mat\" % data_name)\n",
    "    print(\"\\nloaded %s data!\" % data_name)\n",
    "    \n",
    "    complete_dataset[data_name] = {}\n",
    "    \n",
    "    fields = \"test_data\", \"training_data\", \"training_labels\"\n",
    "    for field in fields:\n",
    "        print(field, data[field].shape)\n",
    "        complete_dataset[data_name][field] = data[field]"
   ]
  },
  {
   "cell_type": "code",
   "execution_count": 3,
   "metadata": {},
   "outputs": [],
   "source": [
    "def partitionDataSet(training_data, training_labels, length):\n",
    "    totalSet = np.concatenate((training_data, \\\n",
    "                               training_labels), axis=1)\n",
    "    np.random.shuffle(totalSet)    \n",
    "    \n",
    "    return totalSet[0:length, :], totalSet[length:, :]\n",
    "\n",
    "from sklearn.preprocessing import StandardScaler\n",
    "from skimage.feature import hog\n",
    "\n",
    "def createHogFeature(data, x, y, multi):\n",
    "    featurevec = None\n",
    "    for row in range(0, data.shape[0]):\n",
    "        if row % 1000 == 0:\n",
    "            print(f\"finished {row}\", end=' ')\n",
    "        \n",
    "        if multi:\n",
    "            img = data[row,:].reshape(3, x,y).T\n",
    "        else:\n",
    "            img = data[row,:].reshape(x,y)\n",
    "            \n",
    "        fd, _ = hog(img, visualize=True, feature_vector=True, multichannel=multi)\n",
    "        if featurevec is None:\n",
    "            featurevec = fd.reshape(1, fd.shape[0])\n",
    "        else:\n",
    "            featurevec = np.concatenate((featurevec, fd.reshape(1,fd.shape[0])), axis=0)\n",
    "            \n",
    "    return featurevec"
   ]
  },
  {
   "cell_type": "code",
   "execution_count": 4,
   "metadata": {},
   "outputs": [
    {
     "name": "stdout",
     "output_type": "stream",
     "text": [
      "MNIST Dataset: \n",
      "finished 0 finished 1000 finished 2000 finished 3000 finished 4000 finished 5000 finished 6000 finished 7000 finished 8000 finished 9000 finished 10000 finished 11000 finished 12000 finished 13000 finished 14000 finished 15000 finished 16000 finished 17000 finished 18000 finished 19000 finished 20000 finished 21000 finished 22000 finished 23000 finished 24000 finished 25000 finished 26000 finished 27000 finished 28000 finished 29000 finished 30000 finished 31000 finished 32000 finished 33000 finished 34000 finished 35000 finished 36000 finished 37000 finished 38000 finished 39000 finished 40000 finished 41000 finished 42000 finished 43000 finished 44000 finished 45000 finished 46000 finished 47000 finished 48000 finished 49000 finished 50000 finished 51000 finished 52000 finished 53000 finished 54000 finished 55000 finished 56000 finished 57000 finished 58000 finished 59000 Validation X: (10000, 81) \n",
      "Validation Y: (10000, 1)\n",
      "Training X: (50000, 81) \n",
      "Training Y: (50000, 1)\n"
     ]
    }
   ],
   "source": [
    "#Partioning MNIST dataset\n",
    "print(\"MNIST Dataset: \")\n",
    "\n",
    "  ## Standardization\n",
    "scaler = StandardScaler()\n",
    "#scaler.fit_transform\n",
    "mnist_training_std = scaler.fit_transform(createHogFeature(complete_dataset[\"mnist\"][\"training_data\"], 28, 28, False))\n",
    "\n",
    "mnist_validation, mnist_training = partitionDataSet(mnist_training_std, \\\n",
    "                               complete_dataset[\"mnist\"][\"training_labels\"], 10000)\n",
    "\n",
    "mnist_validation_x = mnist_validation[:, :-1]\n",
    "mnist_validation_y = mnist_validation[:, -1:]\n",
    "print(f\"Validation X: {mnist_validation_x.shape} \\nValidation Y: {mnist_validation_y.shape}\")\n",
    "\n",
    "mnist_training_x = mnist_training[:, :-1]\n",
    "mnist_training_y = mnist_training[:, -1:]\n",
    "print(f\"Training X: {mnist_training_x.shape} \\nTraining Y: {mnist_training_y.shape}\")"
   ]
  },
  {
   "cell_type": "code",
   "execution_count": 5,
   "metadata": {},
   "outputs": [
    {
     "name": "stdout",
     "output_type": "stream",
     "text": [
      "Spam dataset\n",
      "Validation X: (1035, 32) \n",
      "Validation Y: (1035, 1)\n",
      "Training X: (4137, 32) \n",
      "Training Y: (4137, 1)\n"
     ]
    }
   ],
   "source": [
    "#Partioning spam dataset\n",
    "print(\"Spam dataset\")\n",
    "partition_length = math.ceil(complete_dataset[\"spam\"][\"training_data\"].shape[0]*0.2)\n",
    "\n",
    "spam_validation, spam_training = partitionDataSet(complete_dataset[\"spam\"][\"training_data\"], \\\n",
    "                               complete_dataset[\"spam\"][\"training_labels\"], partition_length)\n",
    "\n",
    "spam_validation_x = spam_validation[:, :-1]\n",
    "spam_validation_y = spam_validation[:, -1:]\n",
    "print(f\"Validation X: {spam_validation_x.shape} \\nValidation Y: {spam_validation_y.shape}\")\n",
    "\n",
    "spam_training_x = spam_training[:, :-1]\n",
    "spam_training_y = spam_training[:, -1:]\n",
    "print(f\"Training X: {spam_training_x.shape} \\nTraining Y: {spam_training_y.shape}\")"
   ]
  },
  {
   "cell_type": "code",
   "execution_count": 6,
   "metadata": {},
   "outputs": [
    {
     "name": "stdout",
     "output_type": "stream",
     "text": [
      "CIFAR-10 dataset\n",
      "finished 0 finished 1000 finished 2000 finished 3000 finished 4000 finished 5000 finished 6000 finished 7000 finished 8000 finished 9000 finished 10000 finished 11000 finished 12000 finished 13000 finished 14000 finished 15000 finished 16000 finished 17000 finished 18000 finished 19000 finished 20000 finished 21000 finished 22000 finished 23000 finished 24000 finished 25000 finished 26000 finished 27000 finished 28000 finished 29000 finished 30000 finished 31000 finished 32000 finished 33000 finished 34000 finished 35000 finished 36000 finished 37000 finished 38000 finished 39000 finished 40000 finished 41000 finished 42000 finished 43000 finished 44000 finished 45000 finished 46000 finished 47000 finished 48000 finished 49000 Validation X: (10000, 324) \n",
      "Validation Y: (10000, 1)\n",
      "Training X: (40000, 324) \n",
      "Training Y: (40000, 1)\n"
     ]
    }
   ],
   "source": [
    "#Partioning CIFAR-10 dataset\n",
    "print(\"CIFAR-10 dataset\")\n",
    "scaler = StandardScaler()\n",
    "#scaler.fit_transform\n",
    "cifar_training_hog = createHogFeature(complete_dataset[\"cifar10\"][\"training_data\"], 32, 32, True)\n",
    "cifar_training_std = scaler.fit_transform(cifar_training_hog)\n",
    "\n",
    "cifar_validation, cifar_training = partitionDataSet(cifar_training_hog, \\\n",
    "                               complete_dataset[\"cifar10\"][\"training_labels\"], 10000)\n",
    "\n",
    "\n",
    "cifar_validation_x = cifar_validation[:, :-1]\n",
    "cifar_validation_y = cifar_validation[:, -1:]\n",
    "print(f\"Validation X: {cifar_validation_x.shape} \\nValidation Y: {cifar_validation_y.shape}\")\n",
    "\n",
    "cifar_training_x = cifar_training[:, :-1]\n",
    "cifar_training_y = cifar_training[:, -1:]\n",
    "print(f\"Training X: {cifar_training_x.shape} \\nTraining Y: {cifar_training_y.shape}\")"
   ]
  },
  {
   "cell_type": "code",
   "execution_count": 7,
   "metadata": {},
   "outputs": [
    {
     "data": {
      "image/png": "[encoded data removed]",
      "text/plain": [
       "<Figure size 144x72 with 2 Axes>"
      ]
     },
     "metadata": {
      "needs_background": "light"
     },
     "output_type": "display_data"
    }
   ],
   "source": [
    "#Plotting Cifar Image vs. its HOG feature\n",
    "\n",
    "fig, (ax1, ax2) = plt.subplots(1, 2, figsize=(2, 1), sharex=True, sharey=True)\n",
    "\n",
    "ax1.axis('off')\n",
    "ax1.imshow(complete_dataset[\"cifar10\"][\"training_data\"][0,:].reshape(3,32,32).T, cmap=plt.cm.gray)\n",
    "ax1.set_title('Input image')\n",
    "\n",
    "ax2.axis('off')\n",
    "ax2.imshow(cifar_training_hog[0,:].reshape(18,18))\n",
    "ax2.set_title('Histogram of Oriented Gradients')\n",
    "plt.show()"
   ]
  },
  {
   "cell_type": "markdown",
   "metadata": {},
   "source": [
    "## Question 3, 4 for MNIST Handrwritten Digit Classification"
   ]
  },
  {
   "cell_type": "markdown",
   "metadata": {},
   "source": [
    "Creating SVC Model and training"
   ]
  },
  {
   "cell_type": "code",
   "execution_count": 8,
   "metadata": {},
   "outputs": [
    {
     "name": "stdout",
     "output_type": "stream",
     "text": [
      "Training with 100 examples\n",
      "Training accuracy: 0.75832 \n",
      "Validation Accuracy: 0.7589\n",
      "\n",
      "Training with 200 examples\n",
      "Training accuracy: 0.82444 \n",
      "Validation Accuracy: 0.8277\n",
      "\n",
      "Training with 500 examples\n",
      "Training accuracy: 0.87138 \n",
      "Validation Accuracy: 0.8739\n",
      "\n",
      "Training with 1000 examples\n",
      "Training accuracy: 0.89588 \n",
      "Validation Accuracy: 0.8965\n",
      "\n",
      "Training with 2000 examples\n",
      "Training accuracy: 0.90944 \n",
      "Validation Accuracy: 0.9079\n",
      "\n",
      "Training with 5000 examples\n",
      "Training accuracy: 0.92726 \n",
      "Validation Accuracy: 0.9188\n",
      "\n",
      "Training with 10000 examples\n",
      "Training accuracy: 0.9432 \n",
      "Validation Accuracy: 0.9326\n",
      "\n"
     ]
    }
   ],
   "source": [
    "#Training on MNIST Dataset\n",
    "\n",
    "mnist_clf = svm.SVC(kernel='linear')\n",
    "\n",
    "training_ints = [100, 200, 500, 1000, 2000, 5000, 10000]\n",
    "accuracies = {\"train\": [], \"val\": []}\n",
    "\n",
    "for num_training in training_ints:\n",
    "    \n",
    "    print(f\"Training with {num_training} examples\")\n",
    "    \n",
    "    training_y = np.asarray(mnist_training_y).reshape(-1)\n",
    "    validation_y = np.asarray(mnist_validation_y).reshape(-1)\n",
    "    \n",
    "    mnist_clf.fit(mnist_training_x[:num_training, :], training_y[:num_training])\n",
    "    \n",
    "    \n",
    "    training_acc = metrics.accuracy_score(training_y, mnist_clf.predict(mnist_training_x))\n",
    "    val_acc = metrics.accuracy_score(validation_y, mnist_clf.predict(mnist_validation_x))\n",
    "    \n",
    "    accuracies[\"train\"].append(training_acc)\n",
    "    accuracies[\"val\"].append(val_acc)\n",
    "    \n",
    "    print(f\"Training accuracy: {training_acc} \\nValidation Accuracy: {val_acc}\\n\")\n"
   ]
  },
  {
   "cell_type": "markdown",
   "metadata": {},
   "source": [
    "**Plotting Training/Validation Accuracy vs. Num Examples Trained with**"
   ]
  },
  {
   "cell_type": "code",
   "execution_count": 9,
   "metadata": {},
   "outputs": [
    {
     "data": {
      "image/png": "[encoded data removed]",
      "text/plain": [
       "<Figure size 432x288 with 1 Axes>"
      ]
     },
     "metadata": {
      "needs_background": "light"
     },
     "output_type": "display_data"
    }
   ],
   "source": [
    "plt.plot(training_ints, accuracies[\"train\"], '.r-')\n",
    "plt.plot(training_ints, accuracies[\"val\"], '.b-')\n",
    "plt.legend(['Training', 'Validation'], loc=4)\n",
    "plt.xlabel(\"Num Training Examples\")\n",
    "plt.ylabel(\"Accuracy\")\n",
    "plt.show()"
   ]
  },
  {
   "cell_type": "code",
   "execution_count": 10,
   "metadata": {},
   "outputs": [],
   "source": [
    "# from save_csv import *\n",
    "# results_to_csv(mnist_clf.predict(complete_dataset[\"mnist\"][\"test_data\"]))"
   ]
  },
  {
   "cell_type": "markdown",
   "metadata": {},
   "source": [
    "**Tuning regularization hyperparameter and choosing best one:**"
   ]
  },
  {
   "cell_type": "code",
   "execution_count": 11,
   "metadata": {},
   "outputs": [
    {
     "name": "stdout",
     "output_type": "stream",
     "text": [
      "Training with regularlization param 1e-05\n",
      "Training accuracy: 0.11158 \n",
      "Validation Accuracy: 0.1163\n",
      "\n",
      "Training with regularlization param 0.0001\n",
      "Training accuracy: 0.3677 \n",
      "Validation Accuracy: 0.3734\n",
      "\n",
      "Training with regularlization param 0.001\n",
      "Training accuracy: 0.90194 \n",
      "Validation Accuracy: 0.9003\n",
      "\n",
      "Training with regularlization param 0.01\n",
      "Training accuracy: 0.93156 \n",
      "Validation Accuracy: 0.9287\n",
      "\n",
      "Training with regularlization param 0.1\n",
      "Training accuracy: 0.92118 \n",
      "Validation Accuracy: 0.92\n",
      "\n",
      "Training with regularlization param 1.0\n",
      "Training accuracy: 0.90944 \n",
      "Validation Accuracy: 0.9079\n",
      "\n",
      "Training with regularlization param 10.0\n",
      "Training accuracy: 0.90894 \n",
      "Validation Accuracy: 0.9077\n",
      "\n",
      "Training with regularlization param 100.00000000000001\n",
      "Training accuracy: 0.90894 \n",
      "Validation Accuracy: 0.9077\n",
      "\n"
     ]
    }
   ],
   "source": [
    "Cs = [0.00001 * math.pow(10, x) for x in range(0, 8)]\n",
    "num_training = 2000\n",
    "accuraciesC = {\"train\": [], \"val\": []}\n",
    "for c in Cs:\n",
    "    print(f\"Training with regularlization param {c}\")\n",
    "    mnist_clf = svm.SVC(kernel='linear', C=c)\n",
    "    \n",
    "    training_y = np.asarray(mnist_training_y).reshape(-1)\n",
    "    validation_y = np.asarray(mnist_validation_y).reshape(-1)\n",
    "    \n",
    "    mnist_clf.fit(mnist_training_x[:num_training, :], training_y[:num_training])\n",
    "    \n",
    "    training_acc = metrics.accuracy_score(training_y, mnist_clf.predict(mnist_training_x))\n",
    "    val_acc = metrics.accuracy_score(validation_y, mnist_clf.predict(mnist_validation_x))\n",
    "    \n",
    "    accuraciesC[\"train\"].append(training_acc)\n",
    "    accuraciesC[\"val\"].append(val_acc)\n",
    "    \n",
    "    print(f\"Training accuracy: {training_acc} \\nValidation Accuracy: {val_acc}\\n\")"
   ]
  },
  {
   "cell_type": "code",
   "execution_count": 12,
   "metadata": {},
   "outputs": [
    {
     "data": {
      "image/png": "[encoded data removed]",
      "text/plain": [
       "<Figure size 432x288 with 1 Axes>"
      ]
     },
     "metadata": {
      "needs_background": "light"
     },
     "output_type": "display_data"
    },
    {
     "name": "stdout",
     "output_type": "stream",
     "text": [
      "Best C for training: 0.01, Best C for validation: 0.01\n"
     ]
    }
   ],
   "source": [
    "plt.plot(Cs, accuraciesC[\"train\"], '.r-')\n",
    "plt.plot(Cs, accuraciesC[\"val\"], '.b-')\n",
    "\n",
    "ax = plt.gca()\n",
    "ax.set_xscale('log')\n",
    "plt.legend(['Training', 'Validation'], loc=4)\n",
    "plt.xlabel(\"Regularization Parameter C\")\n",
    "plt.ylabel(\"Accuracy\")\n",
    "\n",
    "plt.show()\n",
    "\n",
    "maxCtrain = max(zip(Cs,accuraciesC[\"train\"]), key=lambda x: x[1])[0]\n",
    "maxCval = max(zip(Cs,accuraciesC[\"train\"]), key=lambda x: x[1])[0]\n",
    "\n",
    "print(f\"Best C for training: {maxCtrain}, Best C for validation: {maxCval}\")"
   ]
  },
  {
   "cell_type": "markdown",
   "metadata": {},
   "source": [
    "**Using best C and training on 30,000 examples:**"
   ]
  },
  {
   "cell_type": "code",
   "execution_count": 13,
   "metadata": {},
   "outputs": [
    {
     "name": "stdout",
     "output_type": "stream",
     "text": [
      "Training accuracy: 0.954 \n",
      "Validation Accuracy: 0.9349\n",
      "\n"
     ]
    }
   ],
   "source": [
    "num_training = 20000\n",
    "mnist_clf = svm.SVC(kernel='linear', C=100)\n",
    "    \n",
    "training_y = np.asarray(mnist_training_y).reshape(-1)\n",
    "validation_y = np.asarray(mnist_validation_y).reshape(-1)\n",
    "\n",
    "mnist_clf.fit(mnist_training_x[:num_training, :], training_y[:num_training])\n",
    "\n",
    "\n",
    "training_acc = metrics.accuracy_score(training_y, mnist_clf.predict(mnist_training_x))\n",
    "val_acc = metrics.accuracy_score(validation_y, mnist_clf.predict(mnist_validation_x))\n",
    "\n",
    "# accuracies[\"train\"].append(training_acc)\n",
    "# accuracies[\"val\"].append(val_acc)\n",
    "\n",
    "print(f\"Training accuracy: {training_acc} \\nValidation Accuracy: {val_acc}\\n\")"
   ]
  },
  {
   "cell_type": "markdown",
   "metadata": {},
   "source": [
    "**Running best MNIST linear SVM model on test set and saving predictions:**"
   ]
  },
  {
   "cell_type": "code",
   "execution_count": 14,
   "metadata": {},
   "outputs": [],
   "source": [
    "from save_csv import *\n",
    "results_to_csv(mnist_clf.predict(scaler.fit_transform(createHogFeature(complete_dataset[\"mnist\"][\"test_data\"], 28, 28, False))))"
   ]
  },
  {
   "cell_type": "markdown",
   "metadata": {},
   "source": [
    "### Using Non-linear SVM Classifier"
   ]
  },
  {
   "cell_type": "code",
   "execution_count": 14,
   "metadata": {},
   "outputs": [
    {
     "name": "stdout",
     "output_type": "stream",
     "text": [
      "Training with regularlization param 1e-05\n",
      "Training accuracy: 0.11158 \n",
      "Validation Accuracy: 0.1163\n",
      "\n",
      "Training with regularlization param 0.0001\n",
      "Training accuracy: 0.11158 \n",
      "Validation Accuracy: 0.1163\n",
      "\n",
      "Training with regularlization param 0.001\n",
      "Training accuracy: 0.11164 \n",
      "Validation Accuracy: 0.1164\n",
      "\n",
      "Training with regularlization param 0.01\n",
      "Training accuracy: 0.13222 \n",
      "Validation Accuracy: 0.1366\n",
      "\n",
      "Training with regularlization param 0.1\n",
      "Training accuracy: 0.56316 \n",
      "Validation Accuracy: 0.5657\n",
      "\n",
      "Training with regularlization param 1.0\n",
      "Training accuracy: 0.89152 \n",
      "Validation Accuracy: 0.8892\n",
      "\n",
      "Training with regularlization param 10.0\n",
      "Training accuracy: 0.92748 \n",
      "Validation Accuracy: 0.9264\n",
      "\n",
      "Training with regularlization param 100.00000000000001\n",
      "Training accuracy: 0.92872 \n",
      "Validation Accuracy: 0.9273\n",
      "\n"
     ]
    },
    {
     "data": {
      "image/png": "[encoded data removed]",
      "text/plain": [
       "<Figure size 432x288 with 1 Axes>"
      ]
     },
     "metadata": {
      "needs_background": "light"
     },
     "output_type": "display_data"
    },
    {
     "name": "stdout",
     "output_type": "stream",
     "text": [
      "Best C for training: 100.00000000000001, Best C for validation: 100.00000000000001\n"
     ]
    }
   ],
   "source": [
    "Cs = [0.00001 * math.pow(10, x) for x in range(0, 8)]\n",
    "num_training = 2000\n",
    "accuraciesC = {\"train\": [], \"val\": []}\n",
    "for c in Cs:\n",
    "    print(f\"Training with regularlization param {c}\")\n",
    "    mnist_clf = svm.SVC(kernel='poly', C=c)\n",
    "    \n",
    "    training_y = np.asarray(mnist_training_y).reshape(-1)\n",
    "    validation_y = np.asarray(mnist_validation_y).reshape(-1)\n",
    "    \n",
    "    mnist_clf.fit(mnist_training_x[:num_training, :], training_y[:num_training])\n",
    "    \n",
    "    training_acc = metrics.accuracy_score(training_y, mnist_clf.predict(mnist_training_x))\n",
    "    val_acc = metrics.accuracy_score(validation_y, mnist_clf.predict(mnist_validation_x))\n",
    "    \n",
    "    accuraciesC[\"train\"].append(training_acc)\n",
    "    accuraciesC[\"val\"].append(val_acc)\n",
    "    \n",
    "    print(f\"Training accuracy: {training_acc} \\nValidation Accuracy: {val_acc}\\n\")\n",
    "    \n",
    "plt.plot(Cs, accuraciesC[\"train\"], '.r-')\n",
    "plt.plot(Cs, accuraciesC[\"val\"], '.b-')\n",
    "\n",
    "ax = plt.gca()\n",
    "ax.set_xscale('log')\n",
    "plt.legend(['Training', 'Validation'], loc=4)\n",
    "plt.xlabel(\"Regularization Parameter C\")\n",
    "plt.ylabel(\"Accuracy\")\n",
    "\n",
    "plt.show()\n",
    "\n",
    "maxCtrain = max(zip(Cs,accuraciesC[\"train\"]), key=lambda x: x[1])[0]\n",
    "maxCval = max(zip(Cs,accuraciesC[\"train\"]), key=lambda x: x[1])[0]\n",
    "\n",
    "print(f\"Best C for training: {maxCtrain}, Best C for validation: {maxCval}\")"
   ]
  },
  {
   "cell_type": "code",
   "execution_count": 15,
   "metadata": {},
   "outputs": [
    {
     "name": "stdout",
     "output_type": "stream",
     "text": [
      "Training accuracy: 0.9877 \n",
      "Validation Accuracy: 0.9701\n",
      "\n"
     ]
    }
   ],
   "source": [
    "num_training = 30000\n",
    "mnist_clf = svm.SVC(kernel='poly', C=100)\n",
    "    \n",
    "training_y = np.asarray(mnist_training_y).reshape(-1)\n",
    "validation_y = np.asarray(mnist_validation_y).reshape(-1)\n",
    "\n",
    "mnist_clf.fit(mnist_training_x[:num_training, :], training_y[:num_training])\n",
    "\n",
    "\n",
    "training_acc = metrics.accuracy_score(training_y, mnist_clf.predict(mnist_training_x))\n",
    "val_acc = metrics.accuracy_score(validation_y, mnist_clf.predict(mnist_validation_x))\n",
    "\n",
    "# accuracies[\"train\"].append(training_acc)\n",
    "# accuracies[\"val\"].append(val_acc)\n",
    "\n",
    "print(f\"Training accuracy: {training_acc} \\nValidation Accuracy: {val_acc}\\n\")"
   ]
  },
  {
   "cell_type": "markdown",
   "metadata": {},
   "source": [
    "**Running best MNIST nonlinear SVM model on test set and saving predictions:**"
   ]
  },
  {
   "cell_type": "code",
   "execution_count": 92,
   "metadata": {},
   "outputs": [
    {
     "name": "stdout",
     "output_type": "stream",
     "text": [
      "finished 0 finished 1000 finished 2000 finished 3000 finished 4000 finished 5000 finished 6000 finished 7000 finished 8000 finished 9000 "
     ]
    }
   ],
   "source": [
    "results_to_csv(mnist_clf.predict(scaler.fit_transform(createHogFeature(complete_dataset[\"mnist\"][\"test_data\"], 28, 28, False))))"
   ]
  },
  {
   "cell_type": "markdown",
   "metadata": {},
   "source": [
    "## Question 3,5 for Spam/Ham Classification"
   ]
  },
  {
   "cell_type": "code",
   "execution_count": 16,
   "metadata": {},
   "outputs": [
    {
     "name": "stdout",
     "output_type": "stream",
     "text": [
      "Training with 100 examples\n",
      "Training accuracy: 0.7457094512932076 \n",
      "Validation Accuracy: 0.7603864734299517\n",
      "\n",
      "Training with 200 examples\n",
      "Training accuracy: 0.7921198936427363 \n",
      "Validation Accuracy: 0.8057971014492754\n",
      "\n",
      "Training with 500 examples\n",
      "Training accuracy: 0.797196035774716 \n",
      "Validation Accuracy: 0.8154589371980676\n",
      "\n",
      "Training with 1000 examples\n",
      "Training accuracy: 0.8039642252840222 \n",
      "Validation Accuracy: 0.8241545893719807\n",
      "\n",
      "Training with 2000 examples\n",
      "Training accuracy: 0.8104906937394247 \n",
      "Validation Accuracy: 0.8309178743961353\n",
      "\n",
      "Training with 4137 examples\n",
      "Training accuracy: 0.8008218515832729 \n",
      "Validation Accuracy: 0.821256038647343\n",
      "\n"
     ]
    }
   ],
   "source": [
    "#Training on Spam/Ham Dataset\n",
    "\n",
    "spam_clf = svm.SVC(kernel='linear')\n",
    "\n",
    "training_ints = [100, 200, 500, 1000, 2000, spam_training_x.shape[0]]\n",
    "accuraciesSpam = {\"train\": [], \"val\": []}\n",
    "\n",
    "for num_training in training_ints:\n",
    "    \n",
    "    print(f\"Training with {num_training} examples\")\n",
    "    \n",
    "    training_y = np.asarray(spam_training_y).reshape(-1)\n",
    "    validation_y = np.asarray(spam_validation_y).reshape(-1)\n",
    "    \n",
    "    spam_clf.fit(spam_training_x[:num_training, :], training_y[:num_training])\n",
    "    \n",
    "    \n",
    "    training_acc = metrics.accuracy_score(training_y, spam_clf.predict(spam_training_x))\n",
    "    val_acc = metrics.accuracy_score(validation_y, spam_clf.predict(spam_validation_x))\n",
    "    \n",
    "    accuraciesSpam[\"train\"].append(training_acc)\n",
    "    accuraciesSpam[\"val\"].append(val_acc)\n",
    "    \n",
    "    print(f\"Training accuracy: {training_acc} \\nValidation Accuracy: {val_acc}\\n\")"
   ]
  },
  {
   "cell_type": "code",
   "execution_count": 17,
   "metadata": {},
   "outputs": [
    {
     "data": {
      "image/png": "[encoded data removed]",
      "text/plain": [
       "<Figure size 432x288 with 1 Axes>"
      ]
     },
     "metadata": {
      "needs_background": "light"
     },
     "output_type": "display_data"
    }
   ],
   "source": [
    "plt.plot(training_ints, accuraciesSpam[\"train\"], '.r-')\n",
    "plt.plot(training_ints, accuraciesSpam[\"val\"], '.b-')\n",
    "plt.legend(['Training', 'Validation'], loc=4)\n",
    "plt.xlabel(\"Num Training Examples\")\n",
    "plt.ylabel(\"Accuracy\")\n",
    "plt.show()"
   ]
  },
  {
   "cell_type": "code",
   "execution_count": 18,
   "metadata": {},
   "outputs": [],
   "source": [
    "spam_trainingFull_x = np.concatenate((spam_training_x, spam_validation_x), axis=0)\n",
    "spam_trainingFull_y = np.concatenate((spam_training_y, spam_validation_y), axis=0)\n",
    "spam_trainingFull = np.concatenate((spam_trainingFull_x, spam_trainingFull_y), axis=1)\n",
    "\n",
    "shuffled_indices = list(range(0, spam_trainingFull.shape[0]))\n",
    "np.random.shuffle(shuffled_indices)\n",
    "\n",
    "k = 5\n",
    "lenPartition = math.floor(len(shuffled_indices) / k)\n",
    "partitions = []\n",
    "for i in range(0, k):\n",
    "    if (i != k - 1):\n",
    "        partitions.append(shuffled_indices[i*lenPartition:(i+1)*lenPartition])\n",
    "    else:\n",
    "        partitions.append(shuffled_indices[i*lenPartition:])"
   ]
  },
  {
   "cell_type": "code",
   "execution_count": 19,
   "metadata": {},
   "outputs": [
    {
     "name": "stdout",
     "output_type": "stream",
     "text": [
      "Training spam using C=1e-05\n",
      "K-Fold iteration 1\n",
      "Validation accuracy: 0.7111111111111111\n",
      "\n",
      "K-Fold iteration 2\n",
      "Validation accuracy: 0.7111111111111111\n",
      "\n",
      "K-Fold iteration 3\n",
      "Validation accuracy: 0.7111111111111111\n",
      "\n",
      "K-Fold iteration 4\n",
      "Validation accuracy: 0.7111111111111111\n",
      "\n",
      "K-Fold iteration 5\n",
      "Validation accuracy: 0.7111111111111111\n",
      "\n",
      "Cross validation accuracy: 0.7111111111111111\n",
      "\n",
      "Training spam using C=0.0001\n",
      "K-Fold iteration 1\n",
      "Validation accuracy: 0.7236714975845411\n",
      "\n",
      "K-Fold iteration 2\n",
      "Validation accuracy: 0.7256038647342995\n",
      "\n",
      "K-Fold iteration 3\n",
      "Validation accuracy: 0.7227053140096619\n",
      "\n",
      "K-Fold iteration 4\n",
      "Validation accuracy: 0.7246376811594203\n",
      "\n",
      "K-Fold iteration 5\n",
      "Validation accuracy: 0.7236714975845411\n",
      "\n",
      "Cross validation accuracy: 0.7240579710144928\n",
      "\n",
      "Training spam using C=0.001\n",
      "K-Fold iteration 1\n",
      "Validation accuracy: 0.7632850241545893\n",
      "\n",
      "K-Fold iteration 2\n",
      "Validation accuracy: 0.7603864734299517\n",
      "\n",
      "K-Fold iteration 3\n",
      "Validation accuracy: 0.7623188405797101\n",
      "\n",
      "K-Fold iteration 4\n",
      "Validation accuracy: 0.7623188405797101\n",
      "\n",
      "K-Fold iteration 5\n",
      "Validation accuracy: 0.7632850241545893\n",
      "\n",
      "Cross validation accuracy: 0.7623188405797101\n",
      "\n",
      "Training spam using C=0.01\n",
      "K-Fold iteration 1\n",
      "Validation accuracy: 0.7874396135265701\n",
      "\n",
      "K-Fold iteration 2\n",
      "Validation accuracy: 0.7864734299516908\n",
      "\n",
      "K-Fold iteration 3\n",
      "Validation accuracy: 0.7845410628019324\n",
      "\n",
      "K-Fold iteration 4\n",
      "Validation accuracy: 0.7855072463768116\n",
      "\n",
      "K-Fold iteration 5\n",
      "Validation accuracy: 0.7845410628019324\n",
      "\n",
      "Cross validation accuracy: 0.7857004830917875\n",
      "\n",
      "Training spam using C=0.1\n",
      "K-Fold iteration 1\n",
      "Validation accuracy: 0.8106280193236715\n",
      "\n",
      "K-Fold iteration 2\n",
      "Validation accuracy: 0.8183574879227054\n",
      "\n",
      "K-Fold iteration 3\n",
      "Validation accuracy: 0.8164251207729468\n",
      "\n",
      "K-Fold iteration 4\n",
      "Validation accuracy: 0.8173913043478261\n",
      "\n",
      "K-Fold iteration 5\n",
      "Validation accuracy: 0.8154589371980676\n",
      "\n",
      "Cross validation accuracy: 0.8156521739130435\n",
      "\n",
      "Training spam using C=1.0\n",
      "K-Fold iteration 1\n",
      "Validation accuracy: 0.8193236714975846\n",
      "\n",
      "K-Fold iteration 2\n",
      "Validation accuracy: 0.8270531400966183\n",
      "\n",
      "K-Fold iteration 3\n",
      "Validation accuracy: 0.8231884057971014\n",
      "\n",
      "K-Fold iteration 4\n",
      "Validation accuracy: 0.8280193236714976\n",
      "\n",
      "K-Fold iteration 5\n",
      "Validation accuracy: 0.8193236714975846\n",
      "\n",
      "Cross validation accuracy: 0.8233816425120773\n",
      "\n",
      "Training spam using C=10.0\n",
      "K-Fold iteration 1\n",
      "Validation accuracy: 0.821256038647343\n",
      "\n",
      "K-Fold iteration 2\n",
      "Validation accuracy: 0.8260869565217391\n",
      "\n",
      "K-Fold iteration 3\n",
      "Validation accuracy: 0.8222222222222222\n",
      "\n",
      "K-Fold iteration 4\n",
      "Validation accuracy: 0.8289855072463768\n",
      "\n",
      "K-Fold iteration 5\n",
      "Validation accuracy: 0.8222222222222222\n",
      "\n",
      "Cross validation accuracy: 0.8241545893719806\n",
      "\n",
      "Training spam using C=100.00000000000001\n",
      "K-Fold iteration 1\n",
      "Validation accuracy: 0.8222222222222222\n",
      "\n",
      "K-Fold iteration 2\n",
      "Validation accuracy: 0.8260869565217391\n",
      "\n",
      "K-Fold iteration 3\n",
      "Validation accuracy: 0.8231884057971014\n",
      "\n",
      "K-Fold iteration 4\n",
      "Validation accuracy: 0.8289855072463768\n",
      "\n",
      "K-Fold iteration 5\n",
      "Validation accuracy: 0.821256038647343\n",
      "\n",
      "Cross validation accuracy: 0.8243478260869563\n",
      "\n"
     ]
    }
   ],
   "source": [
    "Cs = [0.00001 * math.pow(10, x) for x in range(0, 8)]\n",
    "accuraciesSpamC = []\n",
    "for c in Cs:\n",
    "    cv_accuracy_val = 0\n",
    "    print(f\"Training spam using C={c}\")\n",
    "    for i in range(0, k):\n",
    "        print(f\"K-Fold iteration {i+1}\")\n",
    "        spam_clf = svm.SVC(kernel='linear', C=c)\n",
    "        \n",
    "        spam_training = spam_trainingFull[[ind for x in range(0, k) for ind in partitions[x] if x != i], :]\n",
    "        spam_training_x, spam_training_y = spam_training[:, :-1], spam_training[:, -1:]\n",
    "        spam_valdation = spam_trainingFull[partitions[i], :]\n",
    "        spam_valdation_x, spam_valdation_y = spam_valdation[:, :-1], spam_valdation[:, -1:]\n",
    "        \n",
    "        \n",
    "        training_y = np.asarray(spam_training_y).reshape(-1)\n",
    "        validation_y = np.asarray(spam_validation_y).reshape(-1)\n",
    "        \n",
    "        spam_clf.fit(spam_training_x, training_y)\n",
    "    \n",
    "        val_acc = metrics.accuracy_score(validation_y, spam_clf.predict(spam_validation_x))\n",
    "        print(f\"Validation accuracy: {val_acc}\\n\")\n",
    "    \n",
    "        cv_accuracy_val = cv_accuracy_val + val_acc\n",
    "        \n",
    "    print(f\"Cross validation accuracy: {cv_accuracy_val / k}\\n\")\n",
    "    accuraciesSpamC.append(cv_accuracy_val / k)\n",
    "        \n",
    "        \n",
    "        \n",
    "        \n",
    "        \n",
    "        "
   ]
  },
  {
   "cell_type": "code",
   "execution_count": 20,
   "metadata": {},
   "outputs": [
    {
     "data": {
      "image/png": "[encoded data removed]",
      "text/plain": [
       "<Figure size 432x288 with 1 Axes>"
      ]
     },
     "metadata": {
      "needs_background": "light"
     },
     "output_type": "display_data"
    },
    {
     "name": "stdout",
     "output_type": "stream",
     "text": [
      "Best C for cross-validation: 100.00000000000001\n"
     ]
    }
   ],
   "source": [
    "plt.plot(Cs, accuraciesSpamC, '.r-')\n",
    "\n",
    "ax = plt.gca()\n",
    "ax.set_xscale('log')\n",
    "\n",
    "plt.xlabel(\"Regularization Parameter C\")\n",
    "plt.ylabel(\"Cross-Validation Accuracy\")\n",
    "\n",
    "plt.show()\n",
    "\n",
    "pp = max(zip(Cs,accuraciesSpamC), key=lambda x: x[1])[0]\n",
    "\n",
    "print(f\"Best C for cross-validation: {pp}\")"
   ]
  },
  {
   "cell_type": "code",
   "execution_count": 21,
   "metadata": {},
   "outputs": [
    {
     "name": "stdout",
     "output_type": "stream",
     "text": [
      "Training accuracy: 0.8032390621223109 \n",
      "Validation Accuracy: 0.8241545893719807\n",
      "\n"
     ]
    }
   ],
   "source": [
    "partition_length = math.ceil(complete_dataset[\"spam\"][\"training_data\"].shape[0]*0.2)\n",
    "spam_validation, spam_training = partitionDataSet(complete_dataset[\"spam\"][\"training_data\"], \\\n",
    "                               complete_dataset[\"spam\"][\"training_labels\"], partition_length)\n",
    "\n",
    "spam_validation_x = spam_validation[:, :-1]\n",
    "spam_validation_y = spam_validation[:, -1:]\n",
    "spam_training_x = spam_training[:, :-1]\n",
    "spam_training_y = spam_training[:, -1:]\n",
    "\n",
    "spam_clf = svm.SVC(kernel='linear', C=100)\n",
    "\n",
    "training_y = np.asarray(spam_training_y).reshape(-1)\n",
    "validation_y = np.asarray(spam_validation_y).reshape(-1)\n",
    "\n",
    "spam_clf.fit(spam_training_x, training_y)\n",
    "\n",
    "training_acc = metrics.accuracy_score(training_y, spam_clf.predict(spam_training_x))\n",
    "val_acc = metrics.accuracy_score(validation_y, spam_clf.predict(spam_validation_x))\n",
    "    \n",
    "print(f\"Training accuracy: {training_acc} \\nValidation Accuracy: {val_acc}\\n\")"
   ]
  },
  {
   "cell_type": "markdown",
   "metadata": {},
   "source": [
    "**Using best classifier on spam test set and saving**"
   ]
  },
  {
   "cell_type": "code",
   "execution_count": 65,
   "metadata": {},
   "outputs": [],
   "source": [
    "results_to_csv(spam_clf.predict(complete_dataset[\"spam\"][\"test_data\"]))"
   ]
  },
  {
   "cell_type": "markdown",
   "metadata": {},
   "source": [
    "## Question 3 for CIFAR-10 Image Classification"
   ]
  },
  {
   "cell_type": "code",
   "execution_count": 22,
   "metadata": {},
   "outputs": [
    {
     "name": "stdout",
     "output_type": "stream",
     "text": [
      "Training with 100 examples\n",
      "Training accuracy: 0.303775 \n",
      "Validation Accuracy: 0.3\n",
      "\n",
      "Training with 200 examples\n",
      "Training accuracy: 0.353825 \n",
      "Validation Accuracy: 0.3567\n",
      "\n",
      "Training with 500 examples\n",
      "Training accuracy: 0.3967 \n",
      "Validation Accuracy: 0.4001\n",
      "\n",
      "Training with 1000 examples\n",
      "Training accuracy: 0.429425 \n",
      "Validation Accuracy: 0.4296\n",
      "\n",
      "Training with 2000 examples\n",
      "Training accuracy: 0.469275 \n",
      "Validation Accuracy: 0.4666\n",
      "\n",
      "Training with 5000 examples\n",
      "Training accuracy: 0.5038 \n",
      "Validation Accuracy: 0.5026\n",
      "\n",
      "Training with 10000 examples\n",
      "Training accuracy: 0.5282 \n",
      "Validation Accuracy: 0.5186\n",
      "\n"
     ]
    }
   ],
   "source": [
    "#Training on CIFAR-10 Dataset\n",
    "\n",
    "cifar_clf = svm.SVC(kernel='linear')\n",
    "\n",
    "training_ints = [100, 200, 500, 1000, 2000, 5000, 10000]\n",
    "accuraciesCifar = {\"train\": [], \"val\": []}\n",
    "\n",
    "for num_training in training_ints:\n",
    "    \n",
    "    print(f\"Training with {num_training} examples\")\n",
    "    \n",
    "    training_y = np.asarray(cifar_training_y).reshape(-1)\n",
    "    validation_y = np.asarray(cifar_validation_y).reshape(-1)\n",
    "    \n",
    "    cifar_clf.fit(cifar_training_x[:num_training, :], training_y[:num_training])\n",
    "    \n",
    "    \n",
    "    training_acc = metrics.accuracy_score(training_y, cifar_clf.predict(cifar_training_x))\n",
    "    val_acc = metrics.accuracy_score(validation_y, cifar_clf.predict(cifar_validation_x))\n",
    "    \n",
    "    accuraciesCifar[\"train\"].append(training_acc)\n",
    "    accuraciesCifar[\"val\"].append(val_acc)\n",
    "    \n",
    "    print(f\"Training accuracy: {training_acc} \\nValidation Accuracy: {val_acc}\\n\")"
   ]
  },
  {
   "cell_type": "code",
   "execution_count": 23,
   "metadata": {},
   "outputs": [
    {
     "data": {
      "image/png": "[encoded data removed]",
      "text/plain": [
       "<Figure size 432x288 with 1 Axes>"
      ]
     },
     "metadata": {
      "needs_background": "light"
     },
     "output_type": "display_data"
    }
   ],
   "source": [
    "plt.plot(training_ints[:-1], accuraciesCifar[\"train\"][:-1], '.r-')\n",
    "plt.plot(training_ints[:-1], accuraciesCifar[\"val\"][:-1], '.b-')\n",
    "plt.legend(['Training', 'Validation'], loc=4)\n",
    "plt.xlabel(\"Num Training Examples\")\n",
    "plt.ylabel(\"Accuracy\")\n",
    "plt.show()"
   ]
  },
  {
   "cell_type": "code",
   "execution_count": 24,
   "metadata": {},
   "outputs": [
    {
     "name": "stdout",
     "output_type": "stream",
     "text": [
      "Training accuracy: 0.543175 \n",
      "Validation Accuracy: 0.5292\n",
      "\n"
     ]
    }
   ],
   "source": [
    "num_training = 25000\n",
    "cifar_clf = svm.SVC(kernel='linear', C=1)\n",
    "    \n",
    "training_y = np.asarray(cifar_training_y).reshape(-1)\n",
    "validation_y = np.asarray(cifar_validation_y).reshape(-1)\n",
    "\n",
    "cifar_clf.fit(cifar_training_x[:num_training, :], training_y[:num_training])\n",
    "\n",
    "\n",
    "training_acc = metrics.accuracy_score(training_y, cifar_clf.predict(cifar_training_x))\n",
    "val_acc = metrics.accuracy_score(validation_y, cifar_clf.predict(cifar_validation_x))\n",
    "\n",
    "print(f\"Training accuracy: {training_acc} \\nValidation Accuracy: {val_acc}\\n\")"
   ]
  },
  {
   "cell_type": "code",
   "execution_count": 11,
   "metadata": {},
   "outputs": [
    {
     "name": "stdout",
     "output_type": "stream",
     "text": [
      "finished 0 finished 1000 finished 2000 finished 3000 finished 4000 finished 5000 finished 6000 finished 7000 finished 8000 finished 9000 "
     ]
    }
   ],
   "source": [
    "from save_csv import *\n",
    "results_to_csv(cifar_clf.predict(scaler.fit_transform(createHogFeature(complete_dataset[\"cifar10\"][\"test_data\"], 32, 32, True))))"
   ]
  }
 ],
 "metadata": {
  "kernelspec": {
   "display_name": "canny",
   "language": "python",
   "name": "canny"
  },
  "language_info": {
   "codemirror_mode": {
    "name": "ipython",
    "version": 3
   },
   "file_extension": ".py",
   "mimetype": "text/x-python",
   "name": "python",
   "nbconvert_exporter": "python",
   "pygments_lexer": "ipython3",
   "version": "3.6.8"
  }
 },
 "nbformat": 4,
 "nbformat_minor": 2
}
