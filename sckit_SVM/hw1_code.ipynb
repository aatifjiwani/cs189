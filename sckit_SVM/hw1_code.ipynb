{
 "cells": [
  {
   "cell_type": "code",
   "execution_count": 95,
   "metadata": {},
   "outputs": [],
   "source": [
    "import sys\n",
    "if sys.version_info[0] < 3:\n",
    "    raise Exception(\"Python 3 not detected.\")\n",
    "import numpy as np\n",
    "import matplotlib.pyplot as plt\n",
    "from sklearn import svm\n",
    "from sklearn import metrics\n",
    "from scipy import io\n",
    "import math"
   ]
  },
  {
   "cell_type": "markdown",
   "metadata": {},
   "source": [
    "## Question 2: Partioning"
   ]
  },
  {
   "cell_type": "code",
   "execution_count": 96,
   "metadata": {},
   "outputs": [
    {
     "name": "stdout",
     "output_type": "stream",
     "text": [
      "\n",
      "loaded mnist data!\n",
      "test_data (10000, 784)\n",
      "training_data (60000, 784)\n",
      "training_labels (60000, 1)\n",
      "\n",
      "loaded spam data!\n",
      "test_data (5857, 32)\n",
      "training_data (5172, 32)\n",
      "training_labels (5172, 1)\n",
      "\n",
      "loaded cifar10 data!\n",
      "test_data (10000, 3072)\n",
      "training_data (50000, 3072)\n",
      "training_labels (50000, 1)\n"
     ]
    }
   ],
   "source": [
    "complete_dataset = {}\n",
    "\n",
    "for data_name in [\"mnist\", \"spam\", \"cifar10\"]:\n",
    "    data = io.loadmat(\"data/%s_data.mat\" % data_name)\n",
    "    print(\"\\nloaded %s data!\" % data_name)\n",
    "    \n",
    "    complete_dataset[data_name] = {}\n",
    "    \n",
    "    fields = \"test_data\", \"training_data\", \"training_labels\"\n",
    "    for field in fields:\n",
    "        print(field, data[field].shape)\n",
    "        complete_dataset[data_name][field] = data[field]"
   ]
  },
  {
   "cell_type": "code",
   "execution_count": 97,
   "metadata": {},
   "outputs": [],
   "source": [
    "def partitionDataSet(training_data, training_labels, length):\n",
    "    totalSet = np.concatenate((training_data, \\\n",
    "                               training_labels), axis=1)\n",
    "    np.random.shuffle(totalSet)    \n",
    "    \n",
    "    return totalSet[0:length, :], totalSet[length:, :]\n",
    "\n",
    "from sklearn.preprocessing import StandardScaler"
   ]
  },
  {
   "cell_type": "code",
   "execution_count": 102,
   "metadata": {},
   "outputs": [
    {
     "name": "stdout",
     "output_type": "stream",
     "text": [
      "MNIST Dataset: \n",
      "Validation X: (10000, 784) \n",
      "Validation Y: (10000, 1)\n",
      "Training X: (50000, 784) \n",
      "Training Y: (50000, 1)\n"
     ]
    }
   ],
   "source": [
    "#Partioning MNIST dataset\n",
    "print(\"MNIST Dataset: \")\n",
    "\n",
    "  ## Standardization\n",
    "scaler = StandardScaler()\n",
    "mnist_training_std = scaler.fit_transform(complete_dataset[\"mnist\"][\"training_data\"])\n",
    "\n",
    "mnist_validation, mnist_training = partitionDataSet(mnist_training_std, \\\n",
    "                               complete_dataset[\"mnist\"][\"training_labels\"], 10000)\n",
    "\n",
    "mnist_validation_x = mnist_validation[:, :-1]\n",
    "mnist_validation_y = mnist_validation[:, -1:]\n",
    "print(f\"Validation X: {mnist_validation_x.shape} \\nValidation Y: {mnist_validation_y.shape}\")\n",
    "\n",
    "mnist_training_x = mnist_training[:, :-1]\n",
    "mnist_training_y = mnist_training[:, -1:]\n",
    "print(f\"Training X: {mnist_training_x.shape} \\nTraining Y: {mnist_training_y.shape}\")"
   ]
  },
  {
   "cell_type": "code",
   "execution_count": 99,
   "metadata": {},
   "outputs": [
    {
     "name": "stdout",
     "output_type": "stream",
     "text": [
      "Spam dataset\n",
      "Validation X: (1035, 32) \n",
      "Validation Y: (1035, 1)\n",
      "Training X: (4137, 32) \n",
      "Training Y: (4137, 1)\n"
     ]
    }
   ],
   "source": [
    "#Partioning spam dataset\n",
    "print(\"Spam dataset\")\n",
    "partition_length = math.ceil(complete_dataset[\"spam\"][\"training_data\"].shape[0]*0.2)\n",
    "\n",
    "spam_validation, spam_training = partitionDataSet(complete_dataset[\"spam\"][\"training_data\"], \\\n",
    "                               complete_dataset[\"spam\"][\"training_labels\"], partition_length)\n",
    "\n",
    "spam_validation_x = spam_validation[:, :-1]\n",
    "spam_validation_y = spam_validation[:, -1:]\n",
    "print(f\"Validation X: {spam_validation_x.shape} \\nValidation Y: {spam_validation_y.shape}\")\n",
    "\n",
    "spam_training_x = spam_training[:, :-1]\n",
    "spam_training_y = spam_training[:, -1:]\n",
    "print(f\"Training X: {spam_training_x.shape} \\nTraining Y: {spam_training_y.shape}\")"
   ]
  },
  {
   "cell_type": "code",
   "execution_count": 100,
   "metadata": {},
   "outputs": [
    {
     "name": "stdout",
     "output_type": "stream",
     "text": [
      "CIFAR-10 dataset\n",
      "Validation X: (5000, 3072) \n",
      "Validation Y: (5000, 1)\n",
      "Training X: (45000, 3072) \n",
      "Training Y: (45000, 1)\n"
     ]
    }
   ],
   "source": [
    "#Partioning CIFAR-10 dataset\n",
    "print(\"CIFAR-10 dataset\")\n",
    "cifar_validation, cifar_training = partitionDataSet(complete_dataset[\"cifar10\"][\"training_data\"], \\\n",
    "                               complete_dataset[\"cifar10\"][\"training_labels\"], 5000)\n",
    "\n",
    "cifar_validation_x = cifar_validation[:, :-1]\n",
    "cifar_validation_y = cifar_validation[:, -1:]\n",
    "print(f\"Validation X: {cifar_validation_x.shape} \\nValidation Y: {cifar_validation_y.shape}\")\n",
    "\n",
    "cifar_training_x = cifar_training[:, :-1]\n",
    "cifar_training_y = cifar_training[:, -1:]\n",
    "print(f\"Training X: {cifar_training_x.shape} \\nTraining Y: {cifar_training_y.shape}\")"
   ]
  },
  {
   "cell_type": "markdown",
   "metadata": {},
   "source": [
    "## Question 3, 4 for MNIST Handrwritten Digit Classification"
   ]
  },
  {
   "cell_type": "markdown",
   "metadata": {},
   "source": [
    "Creating SVC Model and training"
   ]
  },
  {
   "cell_type": "code",
   "execution_count": 117,
   "metadata": {},
   "outputs": [
    {
     "name": "stdout",
     "output_type": "stream",
     "text": [
      "Training with 100 examples\n",
      "Training accuracy: 0.6814 \n",
      "Validation Accuracy: 0.6808\n",
      "\n",
      "Training with 200 examples\n",
      "Training accuracy: 0.78158 \n",
      "Validation Accuracy: 0.7801\n",
      "\n",
      "Training with 500 examples\n",
      "Training accuracy: 0.85012 \n",
      "Validation Accuracy: 0.8578\n",
      "\n",
      "Training with 1000 examples\n",
      "Training accuracy: 0.87934 \n",
      "Validation Accuracy: 0.8831\n",
      "\n",
      "Training with 2000 examples\n",
      "Training accuracy: 0.90296 \n",
      "Validation Accuracy: 0.9009\n",
      "\n",
      "Training with 5000 examples\n",
      "Training accuracy: 0.91708 \n",
      "Validation Accuracy: 0.9092\n",
      "\n",
      "Training with 10000 examples\n",
      "Training accuracy: 0.92686 \n",
      "Validation Accuracy: 0.917\n",
      "\n"
     ]
    }
   ],
   "source": [
    "#Training on MNIST Dataset\n",
    "\n",
    "mnist_clf = svm.SVC(kernel='linear')\n",
    "\n",
    "training_ints = [100, 200, 500, 1000, 2000, 5000, 10000]\n",
    "accuracies = {\"train\": [], \"val\": []}\n",
    "\n",
    "for num_training in training_ints:\n",
    "    \n",
    "    print(f\"Training with {num_training} examples\")\n",
    "    \n",
    "    training_y = np.asarray(mnist_training_y).reshape(-1)\n",
    "    validation_y = np.asarray(mnist_validation_y).reshape(-1)\n",
    "    \n",
    "    mnist_clf.fit(mnist_training_x[:num_training, :], training_y[:num_training])\n",
    "    \n",
    "    \n",
    "    training_acc = metrics.accuracy_score(training_y, mnist_clf.predict(mnist_training_x))\n",
    "    val_acc = metrics.accuracy_score(validation_y, mnist_clf.predict(mnist_validation_x))\n",
    "    \n",
    "    accuracies[\"train\"].append(training_acc)\n",
    "    accuracies[\"val\"].append(val_acc)\n",
    "    \n",
    "    print(f\"Training accuracy: {training_acc} \\nValidation Accuracy: {val_acc}\\n\")\n"
   ]
  },
  {
   "cell_type": "markdown",
   "metadata": {},
   "source": [
    "**Plotting Training/Validation Accuracy vs. Num Examples Trained with**"
   ]
  },
  {
   "cell_type": "code",
   "execution_count": 121,
   "metadata": {},
   "outputs": [
    {
     "data": {
      "image/png": "[encoded data removed]",
      "text/plain": [
       "<Figure size 432x288 with 1 Axes>"
      ]
     },
     "metadata": {
      "needs_background": "light"
     },
     "output_type": "display_data"
    }
   ],
   "source": [
    "plt.plot(training_ints, accuracies[\"train\"], '.r-')\n",
    "plt.plot(training_ints, accuracies[\"val\"], '.b-')\n",
    "plt.legend(['Training', 'Validation'], loc=4)\n",
    "plt.xlabel(\"Num Training Examples\")\n",
    "plt.ylabel(\"Accuracy\")\n",
    "plt.show()"
   ]
  },
  {
   "cell_type": "code",
   "execution_count": 109,
   "metadata": {},
   "outputs": [
    {
     "data": {
      "text/plain": [
       "[0.0001, 0.001, 0.01, 0.1, 1.0, 10.0, 100.0, 1000.0]"
      ]
     },
     "execution_count": 109,
     "metadata": {},
     "output_type": "execute_result"
    }
   ],
   "source": [
    "# from save_csv import *\n",
    "# results_to_csv(mnist_clf.predict(complete_dataset[\"mnist\"][\"test_data\"]))"
   ]
  },
  {
   "cell_type": "markdown",
   "metadata": {},
   "source": [
    "**Tuning regularization hyperparameter and choosing best one:**"
   ]
  },
  {
   "cell_type": "code",
   "execution_count": null,
   "metadata": {},
   "outputs": [
    {
     "name": "stdout",
     "output_type": "stream",
     "text": [
      "Training with regularlization param 1e-05\n",
      "Training accuracy: 0.39758 \n",
      "Validation Accuracy: 0.3952\n",
      "\n",
      "Training with regularlization param 0.0001\n",
      "Training accuracy: 0.87646 \n",
      "Validation Accuracy: 0.8818\n",
      "\n",
      "Training with regularlization param 0.001\n",
      "Training accuracy: 0.91732 \n",
      "Validation Accuracy: 0.9178\n",
      "\n",
      "Training with regularlization param 0.01\n"
     ]
    }
   ],
   "source": [
    "Cs = [0.00001 * math.pow(10, x) for x in range(0, 8)]\n",
    "num_training = 5000\n",
    "accuraciesC = {\"train\": [], \"val\": []}\n",
    "for c in Cs:\n",
    "    print(f\"Training with regularlization param {c}\")\n",
    "    mnist_clf = svm.SVC(kernel='linear', C=c)\n",
    "    \n",
    "    training_y = np.asarray(mnist_training_y).reshape(-1)\n",
    "    validation_y = np.asarray(mnist_validation_y).reshape(-1)\n",
    "    \n",
    "    mnist_clf.fit(mnist_training_x[:num_training, :], training_y[:num_training])\n",
    "    \n",
    "    training_acc = metrics.accuracy_score(training_y, mnist_clf.predict(mnist_training_x))\n",
    "    val_acc = metrics.accuracy_score(validation_y, mnist_clf.predict(mnist_validation_x))\n",
    "    \n",
    "    accuraciesC[\"train\"].append(training_acc)\n",
    "    accuraciesC[\"val\"].append(val_acc)\n",
    "    \n",
    "    print(f\"Training accuracy: {training_acc} \\nValidation Accuracy: {val_acc}\\n\")"
   ]
  },
  {
   "cell_type": "code",
   "execution_count": 113,
   "metadata": {},
   "outputs": [
    {
     "data": {
      "image/png": "[encoded data removed]",
      "text/plain": [
       "<Figure size 432x288 with 1 Axes>"
      ]
     },
     "metadata": {
      "needs_background": "light"
     },
     "output_type": "display_data"
    }
   ],
   "source": [
    "plt.plot(Cs, accuraciesC[\"train\"], '.r-')\n",
    "plt.plot(Cs, accuraciesC[\"val\"], '.b-')\n",
    "\n",
    "ax = plt.gca()\n",
    "ax.set_xscale('log')\n",
    "\n",
    "plt.show()\n",
    "\n",
    "maxCtrain = max(zip(Cs,accuraciesC[\"train\"]), key=lambda x: x[1])[0]\n",
    "maxCval = max(zip(Cs,accuraciesC[\"train\"]), key=lambda x: x[1])[0]\n",
    "\n",
    "print(f\"Best C for training: {maxCtrain}, Best C for validation: {maxCVal})"
   ]
  },
  {
   "cell_type": "markdown",
   "metadata": {},
   "source": [
    "**Using best C and training on all examples (50,000):**"
   ]
  },
  {
   "cell_type": "code",
   "execution_count": null,
   "metadata": {},
   "outputs": [],
   "source": [
    "num_training = 50000\n",
    "mnist_clf = svm.SVC(kernel='linear', C=0.01)\n",
    "    \n",
    "training_y = np.asarray(mnist_training_y).reshape(-1)\n",
    "validation_y = np.asarray(mnist_validation_y).reshape(-1)\n",
    "\n",
    "mnist_clf.fit(mnist_training_x[:num_training, :], training_y[:num_training])\n",
    "\n",
    "\n",
    "training_acc = metrics.accuracy_score(training_y, mnist_clf.predict(mnist_training_x))\n",
    "val_acc = metrics.accuracy_score(validation_y, mnist_clf.predict(mnist_validation_x))\n",
    "\n",
    "# accuracies[\"train\"].append(training_acc)\n",
    "# accuracies[\"val\"].append(val_acc)\n",
    "\n",
    "print(f\"Training accuracy: {training_acc} \\nValidation Accuracy: {val_acc}\\n\")"
   ]
  },
  {
   "cell_type": "markdown",
   "metadata": {},
   "source": [
    "**Running best MNIST linear SVM model on test set and saving predictions:**"
   ]
  },
  {
   "cell_type": "code",
   "execution_count": 116,
   "metadata": {},
   "outputs": [],
   "source": [
    "from save_csv import *\n",
    "results_to_csv(mnist_clf.predict(scaler.fit_transform(complete_dataset[\"mnist\"][\"test_data\"])))"
   ]
  },
  {
   "cell_type": "markdown",
   "metadata": {},
   "source": [
    "## Question 3,5 for Spam/Ham Classification"
   ]
  },
  {
   "cell_type": "code",
   "execution_count": null,
   "metadata": {},
   "outputs": [],
   "source": []
  }
 ],
 "metadata": {
  "kernelspec": {
   "display_name": "cs189",
   "language": "python",
   "name": "cs189"
  },
  "language_info": {
   "codemirror_mode": {
    "name": "ipython",
    "version": 3
   },
   "file_extension": ".py",
   "mimetype": "text/x-python",
   "name": "python",
   "nbconvert_exporter": "python",
   "pygments_lexer": "ipython3",
   "version": "3.6.2"
  }
 },
 "nbformat": 4,
 "nbformat_minor": 2
}
