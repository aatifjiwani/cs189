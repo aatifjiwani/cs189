{
 "cells": [
  {
   "cell_type": "code",
   "execution_count": 1,
   "metadata": {},
   "outputs": [],
   "source": [
    "import matplotlib.pyplot as plt \n",
    "import numpy as np\n",
    "from scipy.special import expit\n",
    "from scipy import io\n",
    "import sys"
   ]
  },
  {
   "cell_type": "code",
   "execution_count": 2,
   "metadata": {},
   "outputs": [
    {
     "name": "stdout",
     "output_type": "stream",
     "text": [
      "\n",
      "loaded data!\n",
      "y (6000, 1)\n",
      "X (6000, 12)\n",
      "X_test (497, 12)\n"
     ]
    }
   ],
   "source": [
    "wine_data = io.loadmat(\"data/{}.mat\".format(\"wine\")) \n",
    "print(\"\\nloaded data!\") \n",
    "fields = \"y\", \"X\", \"X_test\" \n",
    "for field in fields:\n",
    "    print(field, wine_data[field].shape)"
   ]
  },
  {
   "cell_type": "code",
   "execution_count": 3,
   "metadata": {},
   "outputs": [],
   "source": [
    "#N,d = wine_data[\"X\"].shape\n",
    "#wine_data[\"X\"] = np.concatenate((wine_data[\"X\"], np.ones((N,1))), axis=1)\n",
    "np.random.seed(69)\n",
    "X_train_raw = wine_data[\"X\"]\n",
    "y_train_raw = wine_data[\"y\"]\n",
    "\n",
    "full_set = np.concatenate((X_train_raw, y_train_raw), axis=1)\n",
    "np.random.shuffle(full_set)\n",
    "\n",
    "X_train_raw = full_set[:4000, :-1]\n",
    "y_train = full_set[:4000, -1:].reshape(-1,)\n",
    "\n",
    "X_val_raw = full_set[4000:, :-1]\n",
    "y_val = full_set[4000:, -1:].reshape(-1,)"
   ]
  },
  {
   "cell_type": "code",
   "execution_count": 4,
   "metadata": {},
   "outputs": [],
   "source": [
    "mean_features = None\n",
    "std_features = None\n",
    "\n",
    "def sigmoid(X, w):\n",
    "    return expit(np.matmul(X, w.T))\n",
    "\n",
    "def normalize(X, mean=None, std=None):\n",
    "    N,d = X.shape\n",
    "    \n",
    "    if not mean:\n",
    "        mean = X.mean(axis=0)\n",
    "        std = X.std(axis=0)\n",
    "        mean_features = mean\n",
    "        std_features = std\n",
    "        \n",
    "    X = (X - mean) / std\n",
    "    \n",
    "    X = np.concatenate((X, np.ones((N,1))), axis=1)\n",
    "    return X\n",
    "        \n",
    "def batch_logistic_loss(X, y, w, reg):\n",
    "    reg_term = (reg / 2) * w.T.dot(w)\n",
    "\n",
    "    loss_0 = np.dot(y.T, np.log(sigmoid(X, w)))\n",
    "    loss_1 = np.dot((1 - y).T, np.log(1-sigmoid(X,w)))\n",
    "    \n",
    "    return reg_term - loss_0 - loss_1\n",
    "\n",
    "def batch_compute_update(X, y, w, reg, eps):\n",
    "    sig = sigmoid(X,w)\n",
    "    gradient = np.matmul(X.T, (y-sig))\n",
    "    grad_step = reg*w - gradient\n",
    "    \n",
    "    return w - (eps * grad_step)\n",
    "\n",
    "from save_csv import results_to_csv\n",
    "def predict_and_save(X, w):\n",
    "    out_y = sigmoid(X, w)\n",
    "    pred_y = (out_y > 0.5).astype(np.int32)\n",
    "    pred_y = pred_y.reshape(-1,)\n",
    "    results_to_csv(pred_y)"
   ]
  },
  {
   "cell_type": "markdown",
   "metadata": {},
   "source": [
    "# Batch Gradient Descent"
   ]
  },
  {
   "cell_type": "code",
   "execution_count": 253,
   "metadata": {},
   "outputs": [
    {
     "name": "stdout",
     "output_type": "stream",
     "text": [
      "---- Training with all 6000 examples ---\n",
      "Iter 1: loss = 5589.095850056396\n",
      "Iter 501: loss = 406.15827313604507\n",
      "Iter 1001: loss = 275.27091247323915\n",
      "Iter 1501: loss = 232.5169797145283\n",
      "Iter 2001: loss = 212.34911891171183\n",
      "Iter 2501: loss = 200.89553229509863\n",
      "Iter 3001: loss = 193.51783152664194\n",
      "Iter 3501: loss = 188.3265222225553\n",
      "Iter 4001: loss = 184.43738272377146\n",
      "Iter 4501: loss = 181.3880989535129\n",
      "Iter 5001: loss = 178.91444002322856\n",
      "Iter 5501: loss = 176.8542507702304\n",
      "Iter 6001: loss = 175.10220014016548\n",
      "Iter 6501: loss = 173.5866774259469\n",
      "Iter 7001: loss = 172.25716704920237\n",
      "Iter 7501: loss = 171.0769396241473\n",
      "Iter 8001: loss = 170.0186085636202\n",
      "Iter 8501: loss = 169.06131439912775\n",
      "Iter 9001: loss = 168.1888765731196\n",
      "Iter 9501: loss = 167.3885432385773\n"
     ]
    }
   ],
   "source": [
    "_lambda = 1\n",
    "epsilon = 1e-5\n",
    "X_train = normalize(X_train_raw)\n",
    "\n",
    "def train_batch_step(X, y, w, reg, eps):\n",
    "    loss = batch_logistic_loss(X, y, w, reg)\n",
    "    next_w = batch_compute_update(X, y, w, reg, eps)\n",
    "    return loss, next_w\n",
    "\n",
    "def train(num_iterations, X_train, y_train, w_train, regularization_param, epsilon, verbose):\n",
    "    training_loss_history = []\n",
    "    for curr_iter in range(num_iterations):\n",
    "        loss, next_w = train_batch_step(X_train, y_train, w_train, regularization_param, epsilon)\n",
    "\n",
    "        training_loss_history.append(float(loss))\n",
    "        w_train = next_w\n",
    "        if verbose and (curr_iter) % verbose == 0:\n",
    "            print(\"Iter {}: loss = {}\".format(curr_iter+1, training_loss_history[-1]))\n",
    "        \n",
    "    \n",
    "    return w_train, training_loss_history\n",
    "\n",
    "## Training with full 6000 examples\n",
    "print(\"---- Training with all 6000 examples ---\")\n",
    "w_train = np.ones(13)\n",
    "verbose = 500\n",
    "num_iterations = 10000\n",
    "batch_best_w, batch_tl = train(num_iterations, X_train, y_train, w_train, _lambda, epsilon, verbose)"
   ]
  },
  {
   "cell_type": "code",
   "execution_count": 254,
   "metadata": {},
   "outputs": [
    {
     "data": {
      "image/png": "[encoded data removed]",
      "text/plain": [
       "<Figure size 504x504 with 1 Axes>"
      ]
     },
     "metadata": {
      "needs_background": "light"
     },
     "output_type": "display_data"
    }
   ],
   "source": [
    "iterations = list(np.arange(1, num_iterations+1, 1))\n",
    "fig, ax2 = plt.subplots(1, 1, figsize=(7, 7)) \n",
    "\n",
    "ax2.plot(iterations, batch_tl, '.r-') \n",
    "ax2.set_title(\"Loss (Cost) vs. Iteration (10000 iterations)\") \n",
    "ax2.set_xlabel(\"Iteration Number\")\n",
    "ax2.set_ylabel(\"Loss (Cost)\")\n",
    "plt.show()"
   ]
  },
  {
   "cell_type": "markdown",
   "metadata": {},
   "source": [
    "### Training Accuracy"
   ]
  },
  {
   "cell_type": "code",
   "execution_count": 255,
   "metadata": {},
   "outputs": [
    {
     "data": {
      "text/plain": [
       "0.9935"
      ]
     },
     "execution_count": 255,
     "metadata": {},
     "output_type": "execute_result"
    }
   ],
   "source": [
    "out_y = sigmoid(X_train, batch_best_w)\n",
    "pred_y = (out_y > 0.5).astype(np.int32)\n",
    "pred_y = pred_y.reshape(-1,)\n",
    "(y_train == pred_y).astype(np.int32).mean()\n",
    "# pred_y.sum()\n",
    "# y_train.sum()"
   ]
  },
  {
   "cell_type": "markdown",
   "metadata": {},
   "source": [
    "### Validation Accuracy"
   ]
  },
  {
   "cell_type": "code",
   "execution_count": 256,
   "metadata": {},
   "outputs": [
    {
     "data": {
      "text/plain": [
       "0.9935"
      ]
     },
     "execution_count": 256,
     "metadata": {},
     "output_type": "execute_result"
    }
   ],
   "source": [
    "X_val = normalize(X_val_raw, mean_features, std_features)\n",
    "out_y = sigmoid(X_val, batch_best_w)\n",
    "pred_y = (out_y > 0.5).astype(np.int32)\n",
    "pred_y = pred_y.reshape(-1,)\n",
    "(y_val == pred_y).astype(np.int32).mean()\n",
    "# pred_y.sum()\n",
    "# y_val.sum()"
   ]
  },
  {
   "cell_type": "markdown",
   "metadata": {},
   "source": [
    "#### Saving best LR prediction using Batch GD"
   ]
  },
  {
   "cell_type": "code",
   "execution_count": 258,
   "metadata": {},
   "outputs": [
    {
     "name": "stdout",
     "output_type": "stream",
     "text": [
      "130\n"
     ]
    }
   ],
   "source": [
    "X_test_raw = wine_data[\"X_test\"]\n",
    "X_test = normalize(X_test_raw, mean_features, std_features)\n",
    "\n",
    "out_y = sigmoid(X_test, batch_best_w)\n",
    "pred_y = (out_y > 0.5).astype(np.int32)\n",
    "pred_y = pred_y.reshape(-1,)\n",
    "print(pred_y.sum())\n",
    "\n",
    "\n",
    "results_to_csv(pred_y)"
   ]
  },
  {
   "cell_type": "markdown",
   "metadata": {},
   "source": [
    "## Stochastic Gradient Descent"
   ]
  },
  {
   "cell_type": "code",
   "execution_count": 5,
   "metadata": {},
   "outputs": [],
   "source": [
    "# x_i is of shape (1, d)\n",
    "# y_i is of shape (1,1)\n",
    "\n",
    "def sigmoid_single(x_i, w):\n",
    "    return 1 / (1 + np.exp(-np.dot(x_i, w)))\n",
    "\n",
    "def sgd_compute_update(x_i, y_i, w, reg, eps):\n",
    "    sig = sigmoid_single(x_i.T,w)\n",
    "    gradient = np.dot(x_i, (y_i-sig))\n",
    "    grad_step = reg*w - gradient\n",
    "    \n",
    "    return w - (eps * grad_step)"
   ]
  },
  {
   "cell_type": "code",
   "execution_count": 260,
   "metadata": {},
   "outputs": [
    {
     "name": "stdout",
     "output_type": "stream",
     "text": [
      "---- Training with all 6000 examples ---\n",
      "Iter 1: loss = 5589.095850056396\n",
      "Iter 2001: loss = 4445.675016442289\n",
      "Iter 4001: loss = 3591.1865397983865\n",
      "Iter 6001: loss = 2977.6488578063613\n",
      "Iter 8001: loss = 2549.328457750065\n",
      "Iter 10001: loss = 2262.730168961833\n",
      "Iter 12001: loss = 2075.122526562736\n",
      "Iter 14001: loss = 1958.1671228701407\n",
      "Iter 16001: loss = 1884.318495159488\n",
      "Iter 18001: loss = 1841.4960149377828\n",
      "Iter 20001: loss = 1814.256020813375\n",
      "Iter 22001: loss = 1800.1146371836678\n",
      "Iter 24001: loss = 1790.3157500582686\n",
      "Iter 26001: loss = 1786.3991776422633\n",
      "Iter 28001: loss = 1782.7513465460943\n",
      "Iter 30001: loss = 1782.2082437803265\n",
      "Iter 32001: loss = 1780.6140395197617\n",
      "Iter 34001: loss = 1781.0680071776133\n",
      "Iter 36001: loss = 1780.117520831224\n",
      "Iter 38001: loss = 1780.8067744462985\n"
     ]
    }
   ],
   "source": [
    "regularization_param = 1\n",
    "epsilon = 1e-4\n",
    "X_train = normalize(X_train_raw)\n",
    "def train_sgd(num_iterations, X_train, y_train, w_train, regularization_param, epsilon, verbose):\n",
    "    training_loss_history = []\n",
    "    N, d = X_train.shape\n",
    "    for curr_iter in range(num_iterations):\n",
    "        X_sample = X_train[curr_iter % N]\n",
    "        y_sample = y_train[curr_iter % N]\n",
    "        \n",
    "        loss = batch_logistic_loss(X_train, y_train, w_train, regularization_param)\n",
    "        w_train = sgd_compute_update(X_sample, y_sample, w_train, regularization_param, epsilon)\n",
    "        \n",
    "        training_loss_history.append(float(loss))\n",
    "\n",
    "        if verbose and (curr_iter ) % verbose == 0:\n",
    "            print(\"Iter {}: loss = {}\".format(curr_iter+1, training_loss_history[-1]))\n",
    "    \n",
    "    return w_train, training_loss_history\n",
    "\n",
    "## Training with full 6000 examples\n",
    "print(\"---- Training with all 6000 examples ---\")\n",
    "w_train = np.ones(13)\n",
    "verbose = 2000\n",
    "num_iterations = 40000\n",
    "sgd_best_w, sgd_tl = train_sgd(num_iterations, X_train, y_train, w_train, regularization_param, epsilon, verbose)"
   ]
  },
  {
   "cell_type": "code",
   "execution_count": 261,
   "metadata": {},
   "outputs": [
    {
     "data": {
      "image/png": "[encoded data removed]",
      "text/plain": [
       "<Figure size 576x576 with 1 Axes>"
      ]
     },
     "metadata": {
      "needs_background": "light"
     },
     "output_type": "display_data"
    }
   ],
   "source": [
    "iterations = list(np.arange(1, num_iterations+1, 1))\n",
    "fig, ax2 = plt.subplots(1, 1, figsize=(8, 8)) \n",
    "\n",
    "ax2.plot(iterations, sgd_tl, '.r-') \n",
    "ax2.set_title(\"Loss (Cost) vs. Iteration (40000 iterations)\") \n",
    "ax2.set_xlabel(\"Iteration Number\")\n",
    "ax2.set_ylabel(\"Loss (Cost)\")\n",
    "plt.show()"
   ]
  },
  {
   "cell_type": "markdown",
   "metadata": {},
   "source": [
    "### Accuracy on training set"
   ]
  },
  {
   "cell_type": "code",
   "execution_count": 262,
   "metadata": {},
   "outputs": [
    {
     "data": {
      "text/plain": [
       "0.974"
      ]
     },
     "execution_count": 262,
     "metadata": {},
     "output_type": "execute_result"
    }
   ],
   "source": [
    "out_y = sigmoid(X_train, sgd_best_w)\n",
    "pred_y = (out_y > 0.5).astype(np.int32)\n",
    "pred_y = pred_y.reshape(-1,)\n",
    "(y_train == pred_y).astype(np.int32).mean()"
   ]
  },
  {
   "cell_type": "markdown",
   "metadata": {},
   "source": [
    "### Accuracy on Validation Set"
   ]
  },
  {
   "cell_type": "code",
   "execution_count": 263,
   "metadata": {},
   "outputs": [
    {
     "data": {
      "text/plain": [
       "0.9685"
      ]
     },
     "execution_count": 263,
     "metadata": {},
     "output_type": "execute_result"
    }
   ],
   "source": [
    "X_val = normalize(X_val_raw, mean_features, std_features)\n",
    "out_y = sigmoid(X_val, sgd_best_w)\n",
    "pred_y = (out_y > 0.5).astype(np.int32)\n",
    "pred_y = pred_y.reshape(-1,)\n",
    "(y_val == pred_y).astype(np.int32).mean()"
   ]
  },
  {
   "cell_type": "markdown",
   "metadata": {},
   "source": [
    "### Testing sum of testing predictions"
   ]
  },
  {
   "cell_type": "code",
   "execution_count": 264,
   "metadata": {},
   "outputs": [
    {
     "name": "stdout",
     "output_type": "stream",
     "text": [
      "140\n"
     ]
    }
   ],
   "source": [
    "X_test_raw = wine_data[\"X_test\"]\n",
    "X_test = normalize(X_test_raw, mean_features, std_features)\n",
    "\n",
    "out_y = sigmoid(X_test, sgd_best_w)\n",
    "pred_y = (out_y > 0.5).astype(np.int32)\n",
    "pred_y = pred_y.reshape(-1,)\n",
    "print(pred_y.sum())"
   ]
  },
  {
   "cell_type": "markdown",
   "metadata": {},
   "source": [
    "# SGD With Decaying Learning Rate"
   ]
  },
  {
   "cell_type": "code",
   "execution_count": 6,
   "metadata": {},
   "outputs": [
    {
     "name": "stdout",
     "output_type": "stream",
     "text": [
      "---- Training with all 6000 examples ---\n",
      "Iter 1: loss = 5589.095850056396\n",
      "Iter 2001: loss = 1792.6726392406686\n",
      "Iter 4001: loss = 1783.726696437725\n",
      "Iter 6001: loss = 1781.6282207499544\n",
      "Iter 8001: loss = 1779.7710841303615\n",
      "Iter 10001: loss = 1779.2703510952115\n",
      "Iter 12001: loss = 1778.448505340246\n",
      "Iter 14001: loss = 1778.2909486788462\n",
      "Iter 16001: loss = 1777.8207385597195\n",
      "Iter 18001: loss = 1777.780519579104\n",
      "Iter 20001: loss = 1777.4732377424834\n",
      "Iter 22001: loss = 1777.482189200657\n",
      "Iter 24001: loss = 1777.2642417944808\n",
      "Iter 26001: loss = 1777.295971358733\n",
      "Iter 28001: loss = 1777.1325294756439\n",
      "Iter 30001: loss = 1777.175201546631\n",
      "Iter 32001: loss = 1777.0475759174396\n",
      "Iter 34001: loss = 1777.0953576159047\n",
      "Iter 36001: loss = 1776.9925894470807\n",
      "Iter 38001: loss = 1777.0424225195416\n"
     ]
    }
   ],
   "source": [
    "regularization_param = 1\n",
    "delta = .25\n",
    "X_train = normalize(X_train_raw)\n",
    "\n",
    "def train_sgd_decay(num_iterations, X_train, y_train, w_train, regularization_param, delta, verbose):\n",
    "    training_loss_history = []\n",
    "    N, d = X_train.shape\n",
    "    for curr_iter in range(num_iterations):\n",
    "        \n",
    "        epsilon = delta / (curr_iter + 1)\n",
    "        \n",
    "        X_sample = X_train[curr_iter % N]\n",
    "        y_sample = y_train[curr_iter % N]\n",
    "        \n",
    "        loss = batch_logistic_loss(X_train, y_train, w_train, regularization_param)\n",
    "        w_train = sgd_compute_update(X_sample, y_sample, w_train, regularization_param, epsilon)\n",
    "        \n",
    "        training_loss_history.append(float(loss))\n",
    "\n",
    "        if verbose and (curr_iter ) % verbose == 0:\n",
    "            print(\"Iter {}: loss = {}\".format(curr_iter+1, training_loss_history[-1]))\n",
    "#             print(\"{}; Iter {}: loss = {}\".format(epsilon, curr_iter+1, training_loss_history[-1]))\n",
    "    \n",
    "    return w_train, training_loss_history\n",
    "        \n",
    "# Training with different iteration counts\n",
    "print(\"---- Training with all 6000 examples ---\")\n",
    "w_train = np.ones(13)\n",
    "verbose = 2000\n",
    "num_iterations = 40000\n",
    "sgd_decay_best_w, sgd_decay_tl = train_sgd_decay(num_iterations, X_train, y_train, w_train, regularization_param, delta, verbose)"
   ]
  },
  {
   "cell_type": "code",
   "execution_count": 7,
   "metadata": {},
   "outputs": [
    {
     "data": {
      "image/png": "[encoded data removed]",
      "text/plain": [
       "<Figure size 504x504 with 1 Axes>"
      ]
     },
     "metadata": {
      "needs_background": "light"
     },
     "output_type": "display_data"
    }
   ],
   "source": [
    "iterations = list(np.arange(1, num_iterations+1, 1))\n",
    "fig, ax2 = plt.subplots(1, 1, figsize=(7, 7)) \n",
    "\n",
    "ax2.plot(iterations, sgd_decay_tl, '.r-') \n",
    "ax2.set_title(\"Loss (Cost) vs. Iteration (40000 iterations)\") \n",
    "ax2.set_xlabel(\"Iteration Number\")\n",
    "ax2.set_ylabel(\"Loss (Cost)\")\n",
    "plt.show()"
   ]
  },
  {
   "cell_type": "markdown",
   "metadata": {},
   "source": [
    "### Accuracy on training set"
   ]
  },
  {
   "cell_type": "code",
   "execution_count": 8,
   "metadata": {},
   "outputs": [
    {
     "data": {
      "text/plain": [
       "0.9715"
      ]
     },
     "execution_count": 8,
     "metadata": {},
     "output_type": "execute_result"
    }
   ],
   "source": [
    "out_y = sigmoid(X_train, sgd_decay_best_w)\n",
    "pred_y = (out_y > 0.5).astype(np.int32)\n",
    "pred_y = pred_y.reshape(-1,)\n",
    "(y_train == pred_y).astype(np.int32).mean()"
   ]
  },
  {
   "cell_type": "markdown",
   "metadata": {},
   "source": [
    "### Accuracy on Validation Set"
   ]
  },
  {
   "cell_type": "code",
   "execution_count": 9,
   "metadata": {},
   "outputs": [
    {
     "data": {
      "text/plain": [
       "0.9635"
      ]
     },
     "execution_count": 9,
     "metadata": {},
     "output_type": "execute_result"
    }
   ],
   "source": [
    "X_val = normalize(X_val_raw, mean_features, std_features)\n",
    "out_y = sigmoid(X_val, sgd_decay_best_w)\n",
    "pred_y = (out_y > 0.5).astype(np.int32)\n",
    "pred_y = pred_y.reshape(-1,)\n",
    "(y_val == pred_y).astype(np.int32).mean()"
   ]
  },
  {
   "cell_type": "markdown",
   "metadata": {},
   "source": [
    "### Testing sum of testing predictions"
   ]
  },
  {
   "cell_type": "code",
   "execution_count": 10,
   "metadata": {},
   "outputs": [
    {
     "name": "stdout",
     "output_type": "stream",
     "text": [
      "139\n"
     ]
    }
   ],
   "source": [
    "X_test_raw = wine_data[\"X_test\"]\n",
    "X_test = normalize(X_test_raw, mean_features, std_features)\n",
    "\n",
    "out_y = sigmoid(X_test, sgd_decay_best_w)\n",
    "pred_y = (out_y > 0.5).astype(np.int32)\n",
    "pred_y = pred_y.reshape(-1,)\n",
    "print(pred_y.sum())"
   ]
  }
 ],
 "metadata": {
  "kernelspec": {
   "display_name": "cs189",
   "language": "python",
   "name": "cs189"
  },
  "language_info": {
   "codemirror_mode": {
    "name": "ipython",
    "version": 3
   },
   "file_extension": ".py",
   "mimetype": "text/x-python",
   "name": "python",
   "nbconvert_exporter": "python",
   "pygments_lexer": "ipython3",
   "version": "3.6.2"
  }
 },
 "nbformat": 4,
 "nbformat_minor": 4
}
